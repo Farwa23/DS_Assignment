{
 "cells": [
  {
   "cell_type": "code",
   "execution_count": 1,
   "metadata": {},
   "outputs": [
    {
     "name": "stdout",
     "output_type": "stream",
     "text": [
      "78086\n"
     ]
    }
   ],
   "source": [
    "file=open(\"task1.bin\")\n",
    "Array=file.readlines()\n",
    "data_size=Array[0]\n",
    "data_size=int(Array[0],32)\n",
    "if data_size>0x7FFFFFFF:\n",
    "    data_size-=0x100000000\n",
    "print(data_size)"
   ]
  },
  {
   "cell_type": "code",
   "execution_count": 2,
   "metadata": {},
   "outputs": [],
   "source": [
    "image_size=int(Array[1],32)\n",
    "if image_size>0x7FFFFFFF:\n",
    "    image_size-=0x10000000\n",
    "    print(image_size)"
   ]
  },
  {
   "cell_type": "code",
   "execution_count": 3,
   "metadata": {},
   "outputs": [],
   "source": [
    "import numpy as np\n",
    "Dt_array=np.empty([data_size-1])"
   ]
  },
  {
   "cell_type": "code",
   "execution_count": 4,
   "metadata": {},
   "outputs": [],
   "source": [
    "for i in range(len(Array)):\n",
    "    if(i!=0):\n",
    "        image_size=int(Array[i],32)\n",
    "        if image_size>0x7FFFFFFF:\n",
    "            image_size-=0x10000000\n",
    "    Dt_array[i-1]=image_size"
   ]
  },
  {
   "cell_type": "code",
   "execution_count": 5,
   "metadata": {},
   "outputs": [],
   "source": [
    "Data_arr= Dt_array.astype(np.int32)"
   ]
  },
  {
   "cell_type": "code",
   "execution_count": 6,
   "metadata": {},
   "outputs": [],
   "source": [
    "ip=0\n",
    "sp=data_size\n"
   ]
  },
  {
   "cell_type": "code",
   "execution_count": 7,
   "metadata": {},
   "outputs": [],
   "source": [
    "def f(v):\n",
    "    sp = sp - 1\n",
    "    Data_arr[sp] = v\n",
    "\n",
    "def g():\n",
    "    v = Data_arr[sp]\n",
    "    sp = sp + 1\n",
    "    return v"
   ]
  },
  {
   "cell_type": "code",
   "execution_count": 8,
   "metadata": {},
   "outputs": [],
   "source": [
    "def Decode(Instruction):\n",
    "    Ibits = bin(Instruction)[2:].zfill(32)\n",
    "    binop = Ibits[31]\n",
    "    operation = Ibits[-8:-1]\n",
    "    optional_data = Ibits[0:24]\n",
    "    return binop, operation, optional_data"
   ]
  },
  {
   "cell_type": "code",
   "execution_count": 9,
   "metadata": {},
   "outputs": [
    {
     "ename": "UnboundLocalError",
     "evalue": "local variable 'sp' referenced before assignment",
     "output_type": "error",
     "traceback": [
      "\u001b[1;31m---------------------------------------------------------------------------\u001b[0m",
      "\u001b[1;31mUnboundLocalError\u001b[0m                         Traceback (most recent call last)",
      "\u001b[1;32m<ipython-input-9-b6ef50efdffe>\u001b[0m in \u001b[0;36m<module>\u001b[1;34m()\u001b[0m\n\u001b[0;32m     38\u001b[0m \u001b[1;33m\u001b[0m\u001b[0m\n\u001b[0;32m     39\u001b[0m     \u001b[1;32melif\u001b[0m\u001b[1;33m(\u001b[0m\u001b[0mint\u001b[0m\u001b[1;33m(\u001b[0m\u001b[0mbinop\u001b[0m\u001b[1;33m,\u001b[0m\u001b[1;36m2\u001b[0m\u001b[1;33m)\u001b[0m \u001b[1;33m==\u001b[0m \u001b[1;36m1\u001b[0m\u001b[1;33m)\u001b[0m\u001b[1;33m:\u001b[0m\u001b[1;33m\u001b[0m\u001b[0m\n\u001b[1;32m---> 40\u001b[1;33m         \u001b[0ma\u001b[0m \u001b[1;33m=\u001b[0m \u001b[0mg\u001b[0m\u001b[1;33m(\u001b[0m\u001b[1;33m)\u001b[0m\u001b[1;33m\u001b[0m\u001b[0m\n\u001b[0m\u001b[0;32m     41\u001b[0m         \u001b[0mb\u001b[0m \u001b[1;33m=\u001b[0m \u001b[0mg\u001b[0m\u001b[1;33m(\u001b[0m\u001b[1;33m)\u001b[0m\u001b[1;33m\u001b[0m\u001b[0m\n\u001b[0;32m     42\u001b[0m         \u001b[1;32mif\u001b[0m\u001b[1;33m(\u001b[0m\u001b[0mint\u001b[0m\u001b[1;33m(\u001b[0m\u001b[0moperation\u001b[0m\u001b[1;33m,\u001b[0m\u001b[1;36m2\u001b[0m\u001b[1;33m)\u001b[0m \u001b[1;33m==\u001b[0m \u001b[1;36m0\u001b[0m\u001b[1;33m)\u001b[0m\u001b[1;33m:\u001b[0m\u001b[1;33m\u001b[0m\u001b[0m\n",
      "\u001b[1;32m<ipython-input-7-2461f0e57308>\u001b[0m in \u001b[0;36mg\u001b[1;34m()\u001b[0m\n\u001b[0;32m      4\u001b[0m \u001b[1;33m\u001b[0m\u001b[0m\n\u001b[0;32m      5\u001b[0m \u001b[1;32mdef\u001b[0m \u001b[0mg\u001b[0m\u001b[1;33m(\u001b[0m\u001b[1;33m)\u001b[0m\u001b[1;33m:\u001b[0m\u001b[1;33m\u001b[0m\u001b[0m\n\u001b[1;32m----> 6\u001b[1;33m     \u001b[0mv\u001b[0m \u001b[1;33m=\u001b[0m \u001b[0mData_arr\u001b[0m\u001b[1;33m[\u001b[0m\u001b[0msp\u001b[0m\u001b[1;33m]\u001b[0m\u001b[1;33m\u001b[0m\u001b[0m\n\u001b[0m\u001b[0;32m      7\u001b[0m     \u001b[0msp\u001b[0m \u001b[1;33m=\u001b[0m \u001b[0msp\u001b[0m \u001b[1;33m+\u001b[0m \u001b[1;36m1\u001b[0m\u001b[1;33m\u001b[0m\u001b[0m\n\u001b[0;32m      8\u001b[0m     \u001b[1;32mreturn\u001b[0m \u001b[0mv\u001b[0m\u001b[1;33m\u001b[0m\u001b[0m\n",
      "\u001b[1;31mUnboundLocalError\u001b[0m: local variable 'sp' referenced before assignment"
     ]
    }
   ],
   "source": [
    "while True:\n",
    "    instruction = Data_arr[ip]\n",
    "    ip = ip + 1\n",
    "    binop, operation, optional_data = Decode(instruction)\n",
    "    if(int(binop,2) == 0):\n",
    "        if(int(operation,2) == 0):\n",
    "            sp = sp + 1\n",
    "            \n",
    "        if(int(operation,2) == 1):\n",
    "            f(optional_data)\n",
    "            \n",
    "        if(int(operation,2) == 2):\n",
    "            f(ip)\n",
    "            \n",
    "        if(int(operation,2) == 3):\n",
    "            f(sp)\n",
    "            \n",
    "        if(int(operation,2) == 4):\n",
    "            addr = g()\n",
    "            f(Data_array[addr])\n",
    "            \n",
    "        if(int(operation,2) == 5):\n",
    "            st_data = g()\n",
    "            addr = g()\n",
    "            Data_array[addr] = st_data\n",
    "            \n",
    "        if(int(operation,2) == 6):\n",
    "            cond = g()\n",
    "            addr = g()\n",
    "            if (cond != 0):\n",
    "                ip = addr\n",
    "                \n",
    "        if(int(operation,2) == 7):\n",
    "            if (g() == 0):\n",
    "                f(1)\n",
    "            else:\n",
    "                f(0)\n",
    "            \n",
    "    elif(int(binop,2) == 1):\n",
    "        a = g()\n",
    "        b = g()\n",
    "        if(int(operation,2) == 0):\n",
    "            f(a+b)\n",
    "            \n",
    "        elif(int(operation,2) == 1):\n",
    "            f(a-b)\n",
    "            \n",
    "        elif(int(operation,2) == 2):\n",
    "            f(a*b)\n",
    "            \n",
    "        elif(int(operation,2) == 3):\n",
    "            f(int(a/b))\n",
    "            \n",
    "        elif(int(operation,2) == 4):\n",
    "            f(int(a&b))\n",
    "        \n",
    "        elif(int(operation,2) == 5):\n",
    "            f(int(a|b))\n",
    "            \n",
    "        elif(int(operation,2) == 6):\n",
    "            f(a**b)\n",
    "            \n",
    "        elif(int(operation,2) == 7):\n",
    "            f(int(a==b))\n",
    "            \n",
    "        elif(int(operation,2) == 8):\n",
    "            f(int(a<b))\n",
    "            "
   ]
  },
  {
   "cell_type": "code",
   "execution_count": null,
   "metadata": {},
   "outputs": [],
   "source": []
  }
 ],
 "metadata": {
  "kernelspec": {
   "display_name": "Python 3",
   "language": "python",
   "name": "python3"
  },
  "language_info": {
   "codemirror_mode": {
    "name": "ipython",
    "version": 3
   },
   "file_extension": ".py",
   "mimetype": "text/x-python",
   "name": "python",
   "nbconvert_exporter": "python",
   "pygments_lexer": "ipython3",
   "version": "3.7.0"
  }
 },
 "nbformat": 4,
 "nbformat_minor": 2
}
